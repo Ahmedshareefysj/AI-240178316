{
  "nbformat": 4,
  "nbformat_minor": 0,
  "metadata": {
    "colab": {
      "provenance": []
    },
    "kernelspec": {
      "name": "python3",
      "display_name": "Python 3"
    },
    "language_info": {
      "name": "python"
    }
  },
  "cells": [
    {
      "cell_type": "code",
      "execution_count": 1,
      "metadata": {
        "colab": {
          "base_uri": "https://localhost:8080/"
        },
        "id": "7A_kHafz8rvc",
        "outputId": "b1c7dba7-441f-445d-dc1e-fa45520bc9f4"
      },
      "outputs": [
        {
          "output_type": "stream",
          "name": "stdout",
          "text": [
            "Collecting owlready2\n",
            "  Downloading owlready2-0.47.tar.gz (27.3 MB)\n",
            "\u001b[2K     \u001b[90m━━━━━━━━━━━━━━━━━━━━━━━━━━━━━━━━━━━━━━━━\u001b[0m \u001b[32m27.3/27.3 MB\u001b[0m \u001b[31m57.4 MB/s\u001b[0m eta \u001b[36m0:00:00\u001b[0m\n",
            "\u001b[?25h  Installing build dependencies ... \u001b[?25l\u001b[?25hdone\n",
            "  Getting requirements to build wheel ... \u001b[?25l\u001b[?25hdone\n",
            "  Preparing metadata (pyproject.toml) ... \u001b[?25l\u001b[?25hdone\n",
            "Collecting rdflib\n",
            "  Downloading rdflib-7.1.1-py3-none-any.whl.metadata (11 kB)\n",
            "Collecting isodate<1.0.0,>=0.7.2 (from rdflib)\n",
            "  Downloading isodate-0.7.2-py3-none-any.whl.metadata (11 kB)\n",
            "Requirement already satisfied: pyparsing<4,>=2.1.0 in /usr/local/lib/python3.10/dist-packages (from rdflib) (3.2.0)\n",
            "Downloading rdflib-7.1.1-py3-none-any.whl (562 kB)\n",
            "\u001b[2K   \u001b[90m━━━━━━━━━━━━━━━━━━━━━━━━━━━━━━━━━━━━━━━━\u001b[0m \u001b[32m562.4/562.4 kB\u001b[0m \u001b[31m34.0 MB/s\u001b[0m eta \u001b[36m0:00:00\u001b[0m\n",
            "\u001b[?25hDownloading isodate-0.7.2-py3-none-any.whl (22 kB)\n",
            "Building wheels for collected packages: owlready2\n",
            "  Building wheel for owlready2 (pyproject.toml) ... \u001b[?25l\u001b[?25hdone\n",
            "  Created wheel for owlready2: filename=owlready2-0.47-cp310-cp310-linux_x86_64.whl size=24075196 sha256=cf7bd2366d24f499270836f8e7a561a2771b22f07d02bfb40d40822768473aaf\n",
            "  Stored in directory: /root/.cache/pip/wheels/27/3e/ba/4171c4b10bba9fe1774fbf8fcf794de889e636ce64ad83a533\n",
            "Successfully built owlready2\n",
            "Installing collected packages: owlready2, isodate, rdflib\n",
            "Successfully installed isodate-0.7.2 owlready2-0.47 rdflib-7.1.1\n"
          ]
        }
      ],
      "source": [
        "!pip install owlready2 rdflib"
      ]
    },
    {
      "cell_type": "code",
      "source": [
        "from rdflib import Graph\n",
        "\n",
        "# Load the Turtle file\n",
        "g = Graph()\n",
        "g.parse(\"Math4.ttl\", format=\"turtle\")  # Replace with your Turtle file name\n",
        "\n",
        "# Save as OWL\n",
        "g.serialize(\"Math4.owl\", format=\"xml\")  # Saves the file as OWL in XML format\n",
        "print(\"File converted and saved as your_file.owl\")"
      ],
      "metadata": {
        "colab": {
          "base_uri": "https://localhost:8080/"
        },
        "id": "KNUU1xrHCN89",
        "outputId": "d31ddba1-1b51-468c-9e29-d36c05a744cd"
      },
      "execution_count": 11,
      "outputs": [
        {
          "output_type": "stream",
          "name": "stdout",
          "text": [
            "File converted and saved as your_file.owl\n"
          ]
        }
      ]
    },
    {
      "cell_type": "code",
      "source": [
        "from owlready2 import *\n",
        "\n",
        "# Load the OWL file\n",
        "ontology_path = \"Math4.owl\"  # Replace with your OWL file path\n",
        "onto = get_ontology(ontology_path).load()\n",
        "\n",
        "# List all classes in the ontology\n",
        "print(\"Classes in the ontology:\")\n",
        "for cls in onto.classes():\n",
        "    print(cls)"
      ],
      "metadata": {
        "colab": {
          "base_uri": "https://localhost:8080/"
        },
        "id": "RlQizeDxCVvG",
        "outputId": "4fd99a39-3666-44f1-ef4b-f00979c1b6a9"
      },
      "execution_count": 12,
      "outputs": [
        {
          "output_type": "stream",
          "name": "stdout",
          "text": [
            "Classes in the ontology:\n",
            "Math3.Square\n",
            "Math3.Triangle\n",
            "Math3.Shape\n",
            "Math3.Circle\n",
            "Math4.Rectangle\n"
          ]
        },
        {
          "output_type": "stream",
          "name": "stderr",
          "text": [
            "* Owlready2 * Warning: ignoring cyclic type of, involving storid 316\n",
            "\n"
          ]
        }
      ]
    },
    {
      "cell_type": "code",
      "source": [
        "for cls in onto.classes():\n",
        "    print(f\"Class: {cls.name}\")\n",
        "    for prop in cls.get_class_properties():  # Correct method to fetch class properties\n",
        "        print(f\"  Property: {prop.name}\")"
      ],
      "metadata": {
        "colab": {
          "base_uri": "https://localhost:8080/"
        },
        "id": "2k4yYAV5CiU9",
        "outputId": "4cfd15a3-56c0-46fc-8e35-e10c56cfa991"
      },
      "execution_count": 13,
      "outputs": [
        {
          "output_type": "stream",
          "name": "stdout",
          "text": [
            "Class: Square\n",
            "  Property: Area\n",
            "  Property: Side\n",
            "Class: Triangle\n",
            "  Property: Area\n",
            "  Property: Height\n",
            "  Property: Base\n",
            "Class: Shape\n",
            "Class: Circle\n",
            "  Property: Area\n",
            "  Property: Radius\n",
            "Class: Rectangle\n",
            "  Property: Area\n",
            "  Property: Length\n",
            "  Property: Breadth\n"
          ]
        }
      ]
    },
    {
      "cell_type": "code",
      "source": [
        "import math  # For pi and circle area calculation\n",
        "\n",
        "def calculate_area(shape, **kwargs):\n",
        "    if shape.lower() == \"square\":\n",
        "        return kwargs['side'] ** 2  # Area of square = side²\n",
        "    elif shape.lower() == \"circle\":\n",
        "        return math.pi * kwargs['radius'] ** 2  # Area of circle = π * r²\n",
        "    else:\n",
        "        return \"Shape not supported.\"\n",
        "\n",
        "# Example usage\n",
        "print(calculate_area(\"square\", side=5))\n",
        "print(calculate_area(\"circle\", radius=4))"
      ],
      "metadata": {
        "colab": {
          "base_uri": "https://localhost:8080/"
        },
        "id": "2vrET1EeGhVq",
        "outputId": "305053cb-9076-4425-d603-bf74bfd7bf90"
      },
      "execution_count": 14,
      "outputs": [
        {
          "output_type": "stream",
          "name": "stdout",
          "text": [
            "25\n",
            "50.26548245743669\n"
          ]
        }
      ]
    },
    {
      "cell_type": "code",
      "source": [
        "def calculate_area(shape, **kwargs):\n",
        "    if shape.lower() == \"square\":\n",
        "        return kwargs['side'] ** 2  # Area of square = side²\n",
        "    elif shape.lower() == \"circle\":\n",
        "        return math.pi * kwargs['radius'] ** 2  # Area of circle = π * r²\n",
        "    elif shape.lower() == \"triangle\":\n",
        "        return 0.5 * kwargs['base'] * kwargs['height']  # Area of triangle = ½ × base × height\n",
        "    elif shape.lower() == \"rectangle\":\n",
        "        return kwargs['length'] * kwargs['width']  # Area of rectangle = length × width\n",
        "    else:\n",
        "        return \"Shape not supported.\"\n",
        "\n",
        "# Main program\n",
        "shape = input(\"Enter the shape (square, circle, triangle, or rectangle): \").strip().lower()\n",
        "\n",
        "if shape == \"square\":\n",
        "    side = float(input(\"Enter the side of the square: \"))\n",
        "    print(f\"The area of the square is: {calculate_area('square', side=side)}\")\n",
        "elif shape == \"circle\":\n",
        "    radius = float(input(\"Enter the radius of the circle: \"))\n",
        "    print(f\"The area of the circle is: {calculate_area('circle', radius=radius)}\")\n",
        "elif shape == \"triangle\":\n",
        "    base = float(input(\"Enter the base of the triangle: \"))\n",
        "    height = float(input(\"Enter the height of the triangle: \"))\n",
        "    print(f\"The area of the triangle is: {calculate_area('triangle', base=base, height=height)}\")\n",
        "elif shape == \"rectangle\":\n",
        "    length = float(input(\"Enter the length of the rectangle: \"))\n",
        "    width = float(input(\"Enter the width of the rectangle: \"))\n",
        "    print(f\"The area of the rectangle is: {calculate_area('rectangle', length=length, width=width)}\")\n",
        "else:\n",
        "    print(\"Shape not supported.\")"
      ],
      "metadata": {
        "colab": {
          "base_uri": "https://localhost:8080/"
        },
        "id": "Ij-n0-96G3IM",
        "outputId": "0a69adb3-64fe-4a01-ee21-afc4062bee3a"
      },
      "execution_count": 15,
      "outputs": [
        {
          "output_type": "stream",
          "name": "stdout",
          "text": [
            "Enter the shape (square, circle, triangle, or rectangle): Rectangle\n",
            "Enter the length of the rectangle: 50\n",
            "Enter the width of the rectangle: 10\n",
            "The area of the rectangle is: 500.0\n"
          ]
        }
      ]
    },
    {
      "cell_type": "code",
      "source": [
        "query = input(\"Enter a class name to search: \").strip()  # Get user input\n",
        "for cls in onto.classes():\n",
        "    if query.lower() in cls.name.lower():  # Case-insensitive matching\n",
        "        print(f\"Class: {cls.name}\")\n",
        "        # Retrieve and print class properties\n",
        "        for prop in cls.get_class_properties():\n",
        "            print(f\"  Property: {prop.name}\")"
      ],
      "metadata": {
        "colab": {
          "base_uri": "https://localhost:8080/"
        },
        "id": "aLy28vqeH2tK",
        "outputId": "40380e25-a6c9-4612-c572-b48fa337f59f"
      },
      "execution_count": 16,
      "outputs": [
        {
          "output_type": "stream",
          "name": "stdout",
          "text": [
            "Enter a class name to search: rectangle\n",
            "Class: Rectangle\n",
            "  Property: Area\n",
            "  Property: Length\n",
            "  Property: Breadth\n"
          ]
        }
      ]
    },
    {
      "cell_type": "code",
      "source": [
        "def search_concept(concept):\n",
        "    for cls in onto.classes():\n",
        "        if concept.lower() in cls.name.lower():  # Case-insensitive search\n",
        "            print(f\"Found: {cls.name}\")\n",
        "            # Retrieve and print class properties\n",
        "            for prop in cls.get_class_properties():\n",
        "                print(f\"  Property: {prop.name}\")\n",
        "            break\n",
        "    else:\n",
        "        print(\"Concept not found.\")\n",
        "\n",
        "# Test search\n",
        "search_concept(\"Triangle\")"
      ],
      "metadata": {
        "colab": {
          "base_uri": "https://localhost:8080/"
        },
        "id": "eDvtMCB6JHzd",
        "outputId": "7546c120-cb4f-443e-c000-1ddb964f660c"
      },
      "execution_count": 17,
      "outputs": [
        {
          "output_type": "stream",
          "name": "stdout",
          "text": [
            "Found: Triangle\n",
            "  Property: Area\n",
            "  Property: Height\n",
            "  Property: Base\n"
          ]
        }
      ]
    }
  ]
}